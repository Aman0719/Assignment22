{
 "cells": [
  {
   "cell_type": "code",
   "execution_count": 3,
   "id": "424efd4e-b868-4fec-94f6-f2d3a557504b",
   "metadata": {},
   "outputs": [
    {
     "name": "stdout",
     "output_type": "stream",
     "text": [
      "0     4\n",
      "1     8\n",
      "2    15\n",
      "3    16\n",
      "4    23\n",
      "5    42\n",
      "dtype: int64\n"
     ]
    }
   ],
   "source": [
    "#Q1. Create a Pandas Series that contains the following data: 4, 8, 15, 16, 23, and 42. Then, print the series.\n",
    "\n",
    "#Ans-\n",
    "\n",
    "import pandas as pd\n",
    "\n",
    "my_series = pd.Series([4, 8, 15, 16, 23, 42])\n",
    "\n",
    "print(my_series)"
   ]
  },
  {
   "cell_type": "code",
   "execution_count": 4,
   "id": "5cb508b9-aa17-4922-a46b-8acc49a1f4f4",
   "metadata": {},
   "outputs": [
    {
     "name": "stdout",
     "output_type": "stream",
     "text": [
      "0     1\n",
      "1     2\n",
      "2     3\n",
      "3     4\n",
      "4     5\n",
      "5     6\n",
      "6     7\n",
      "7     8\n",
      "8     9\n",
      "9    10\n",
      "dtype: int64\n"
     ]
    }
   ],
   "source": [
    "#Q2. Create a variable of list type containing 10 elements in it, and apply pandas.Series function on the variable print it.\n",
    "\n",
    "#Ans-\n",
    "\n",
    "import pandas as pd\n",
    "\n",
    "my_list = [1, 2, 3, 4, 5, 6, 7, 8, 9, 10]\n",
    "my_series = pd.Series(my_list)\n",
    "\n",
    "print(my_series)\n"
   ]
  },
  {
   "cell_type": "code",
   "execution_count": 11,
   "id": "66b89ff3-3fda-46cd-b324-cd6aad0e2107",
   "metadata": {},
   "outputs": [],
   "source": [
    "#Q3. Create a Pandas DataFrame that contains the following data: Then, print the DataFrame.\n",
    "\n",
    "#Ans-\n",
    "\n",
    "data = {\n",
    "    'Name': ['Alice', 'Bob', 'Claire'],\n",
    "    'Age': [25,30,27],\n",
    "    'Gender': ['Female', 'Male', 'Female',]\n",
    "}\n",
    "\n",
    "Dataframe= pd.DataFrame(data)"
   ]
  },
  {
   "cell_type": "code",
   "execution_count": 12,
   "id": "f4a8148b-875b-43b9-85d5-63c0438e4cc9",
   "metadata": {},
   "outputs": [
    {
     "data": {
      "text/html": [
       "<div>\n",
       "<style scoped>\n",
       "    .dataframe tbody tr th:only-of-type {\n",
       "        vertical-align: middle;\n",
       "    }\n",
       "\n",
       "    .dataframe tbody tr th {\n",
       "        vertical-align: top;\n",
       "    }\n",
       "\n",
       "    .dataframe thead th {\n",
       "        text-align: right;\n",
       "    }\n",
       "</style>\n",
       "<table border=\"1\" class=\"dataframe\">\n",
       "  <thead>\n",
       "    <tr style=\"text-align: right;\">\n",
       "      <th></th>\n",
       "      <th>Name</th>\n",
       "      <th>Age</th>\n",
       "      <th>Gender</th>\n",
       "    </tr>\n",
       "  </thead>\n",
       "  <tbody>\n",
       "    <tr>\n",
       "      <th>0</th>\n",
       "      <td>Alice</td>\n",
       "      <td>25</td>\n",
       "      <td>Female</td>\n",
       "    </tr>\n",
       "    <tr>\n",
       "      <th>1</th>\n",
       "      <td>Bob</td>\n",
       "      <td>30</td>\n",
       "      <td>Male</td>\n",
       "    </tr>\n",
       "    <tr>\n",
       "      <th>2</th>\n",
       "      <td>Claire</td>\n",
       "      <td>27</td>\n",
       "      <td>Female</td>\n",
       "    </tr>\n",
       "  </tbody>\n",
       "</table>\n",
       "</div>"
      ],
      "text/plain": [
       "     Name  Age  Gender\n",
       "0   Alice   25  Female\n",
       "1     Bob   30    Male\n",
       "2  Claire   27  Female"
      ]
     },
     "execution_count": 12,
     "metadata": {},
     "output_type": "execute_result"
    }
   ],
   "source": [
    "Dataframe"
   ]
  },
  {
   "cell_type": "code",
   "execution_count": null,
   "id": "b43bad9c-cf01-48d6-abb4-e95167b2c6ae",
   "metadata": {},
   "outputs": [],
   "source": [
    "Q4. What is ‘DataFrame’ in pandas and how is it different from pandas.series? Explain with an example.\n",
    "\n",
    "Ans-\n",
    "\n",
    "In pandas, a DataFrame is a two-dimensional tabular data structure with labeled axes (rows and columns) that can hold data of different types. \n",
    "It can be thought of as a collection of Pandas Series objects, where each Series represents a column of the DataFrame.\n",
    "\n",
    "On the other hand, a Series is a one-dimensional array-like object that can hold data of any type, including objects, integers, and strings.\n",
    "A Series has an index that labels each element in the array\n",
    "\n",
    "Here is an example that illustrates the difference between a Pandas Series and a DataFrame:"
   ]
  },
  {
   "cell_type": "code",
   "execution_count": 14,
   "id": "183ddb88-9d58-4772-b77c-aa2a52d93612",
   "metadata": {},
   "outputs": [
    {
     "name": "stdout",
     "output_type": "stream",
     "text": [
      "Pandas Series:\n",
      "0    1\n",
      "1    2\n",
      "2    3\n",
      "3    4\n",
      "4    5\n",
      "dtype: int64\n"
     ]
    }
   ],
   "source": [
    "import pandas as pd\n",
    "\n",
    "# Creating a Pandas Series\n",
    "my_series = pd.Series([1, 2, 3, 4, 5])\n",
    "print(\"Pandas Series:\")\n",
    "print(my_series)\n"
   ]
  },
  {
   "cell_type": "code",
   "execution_count": 17,
   "id": "2adc81e0-7cae-4829-9dc0-08806d230e6c",
   "metadata": {},
   "outputs": [],
   "source": [
    "# Creating a Pandas DataFrame\n",
    "data = {\n",
    "    'Name': ['Alice', 'Bob', 'Charlie', 'Dave', 'Eva'],\n",
    "    'Age': [25, 32, 18, 47, 22],\n",
    "    'Gender': ['F', 'M', 'M', 'M', 'F'],\n",
    "    'City': ['New York', 'Paris', 'London', 'Sydney', 'Tokyo']\n",
    "}\n",
    "my_dataframe = pd.DataFrame(data)\n"
   ]
  },
  {
   "cell_type": "code",
   "execution_count": 18,
   "id": "21b58397-4910-42ff-ace5-bdda2f3a5d14",
   "metadata": {},
   "outputs": [
    {
     "data": {
      "text/html": [
       "<div>\n",
       "<style scoped>\n",
       "    .dataframe tbody tr th:only-of-type {\n",
       "        vertical-align: middle;\n",
       "    }\n",
       "\n",
       "    .dataframe tbody tr th {\n",
       "        vertical-align: top;\n",
       "    }\n",
       "\n",
       "    .dataframe thead th {\n",
       "        text-align: right;\n",
       "    }\n",
       "</style>\n",
       "<table border=\"1\" class=\"dataframe\">\n",
       "  <thead>\n",
       "    <tr style=\"text-align: right;\">\n",
       "      <th></th>\n",
       "      <th>Name</th>\n",
       "      <th>Age</th>\n",
       "      <th>Gender</th>\n",
       "      <th>City</th>\n",
       "    </tr>\n",
       "  </thead>\n",
       "  <tbody>\n",
       "    <tr>\n",
       "      <th>0</th>\n",
       "      <td>Alice</td>\n",
       "      <td>25</td>\n",
       "      <td>F</td>\n",
       "      <td>New York</td>\n",
       "    </tr>\n",
       "    <tr>\n",
       "      <th>1</th>\n",
       "      <td>Bob</td>\n",
       "      <td>32</td>\n",
       "      <td>M</td>\n",
       "      <td>Paris</td>\n",
       "    </tr>\n",
       "    <tr>\n",
       "      <th>2</th>\n",
       "      <td>Charlie</td>\n",
       "      <td>18</td>\n",
       "      <td>M</td>\n",
       "      <td>London</td>\n",
       "    </tr>\n",
       "    <tr>\n",
       "      <th>3</th>\n",
       "      <td>Dave</td>\n",
       "      <td>47</td>\n",
       "      <td>M</td>\n",
       "      <td>Sydney</td>\n",
       "    </tr>\n",
       "    <tr>\n",
       "      <th>4</th>\n",
       "      <td>Eva</td>\n",
       "      <td>22</td>\n",
       "      <td>F</td>\n",
       "      <td>Tokyo</td>\n",
       "    </tr>\n",
       "  </tbody>\n",
       "</table>\n",
       "</div>"
      ],
      "text/plain": [
       "      Name  Age Gender      City\n",
       "0    Alice   25      F  New York\n",
       "1      Bob   32      M     Paris\n",
       "2  Charlie   18      M    London\n",
       "3     Dave   47      M    Sydney\n",
       "4      Eva   22      F     Tokyo"
      ]
     },
     "execution_count": 18,
     "metadata": {},
     "output_type": "execute_result"
    }
   ],
   "source": [
    "my_dataframe"
   ]
  },
  {
   "cell_type": "code",
   "execution_count": null,
   "id": "c559f306-dc51-465e-820d-563b87577eb3",
   "metadata": {},
   "outputs": [],
   "source": [
    "In the example above, my_series is a Pandas Series object that holds five integer values. \n",
    "Each value has a default index starting from 0.\n",
    "\n",
    "The my_dataframe variable is a Pandas DataFrame that holds information about people (Name, Age, Gender, City). \n",
    "The DataFrame consists of four columns (each of them a Series), and each column has a label (Name, Age, Gender, City). \n",
    "Unlike the Pandas Series, a DataFrame can hold data of different types (integers, strings, floats, objects, etc.) in each column. \n",
    "Additionally, the DataFrame can have a row index that can be set when the DataFrame is created or modified later."
   ]
  },
  {
   "cell_type": "code",
   "execution_count": null,
   "id": "f23c3db5-af58-4a2a-a61b-64b740dc94e1",
   "metadata": {},
   "outputs": [],
   "source": [
    "Q5. What are some common functions you can use to manipulate data in a Pandas DataFrame? Can you give an example of when you might use one of these functions?\n",
    "\n",
    "Ans-\n",
    "\n",
    "Pandas is a popular data analysis library in Python, and it provides various functions to manipulate data in a DataFrame. \n",
    "Here are some common functions:\n",
    "\n",
    "1.Filtering: \n",
    "You can filter the data in a DataFrame based on certain conditions using functions like loc, iloc, and query. \n",
    "For example, you might use these functions to extract rows from a DataFrame where a certain column meets a specific criteria, such as df.loc[df['age'] > 30].\n",
    "\n",
    "2.Sorting: \n",
    "You can sort a DataFrame based on one or more columns using the sort_values function. \n",
    "For example, df.sort_values(by=['age', 'salary'], ascending=[False, True]) would sort the DataFrame by age in descending order and then by salary in ascending order.\n",
    "\n",
    "3.Aggregating: \n",
    "You can summarize data in a DataFrame using functions like mean, sum, count, and groupby.\n",
    "For example, you might use df.groupby('department')['salary'].mean() to get the average salary for each department.\n",
    "\n",
    "4.Merging:\n",
    "You can merge two or more DataFrames into a single DataFrame using functions like merge or concat.\n",
    "For example, you might use pd.merge(df1, df2, on='id') to combine two DataFrames based on a common column.\n",
    "\n",
    "5.Cleaning: \n",
    "You can clean up data in a DataFrame using functions like dropna, fillna, and replace. \n",
    "For example, you might use df.dropna() to remove any rows that contain missing values.\n",
    "\n",
    "These are just a few examples of the many functions available in Pandas for manipulating data in a DataFrame. \n",
    "Depending on the specific data analysis task, you may need to use one or more of these functions, or others not mentioned here."
   ]
  },
  {
   "cell_type": "code",
   "execution_count": null,
   "id": "dd564106-0f4a-4d5e-afd6-d34528312216",
   "metadata": {},
   "outputs": [],
   "source": [
    "Q6. Which of the following is mutable in nature Series, DataFrame, Panel?\n",
    "\n",
    "Ans-\n",
    "\n",
    "In Pandas, Series and DataFrame are mutable in nature, while Panel is considered to be immutable.\n",
    "\n",
    "A mutable object is one whose contents can be changed after creation, while an immutable object cannot be changed after it is created.\n",
    "\n",
    "Series and DataFrame objects can be modified after creation by adding, deleting or updating values.\n",
    "For example, you can add a new column to a DataFrame, delete a row from a DataFrame, or update the values in a Series.\n",
    "\n",
    "On the other hand, a Panel object is immutable, meaning its contents cannot be modified once it is created. \n",
    "If you need to modify a Panel, you must create a new Panel with the desired modifications.\n",
    "\n",
    "However, it is important to note that while Series and DataFrame are mutable, certain operations on them can create a new copy rather than modifying the original object.\n",
    "For example, when you perform a slicing operation on a DataFrame, a new DataFrame is created, rather than modifying the original."
   ]
  },
  {
   "cell_type": "code",
   "execution_count": 20,
   "id": "958bf84b-759b-4400-80e0-b61ab19b0772",
   "metadata": {},
   "outputs": [],
   "source": [
    "#Q7. Create a DataFrame using multiple Series. Explain with an example.\n",
    "\n",
    "#Ans-\n",
    "\n",
    "import pandas as pd\n",
    "\n",
    "names=pd.Series(['Aman','Ajendra','Akash','Gyan','Umesh'])\n",
    "ages=pd.Series([27,28,26,29,30])\n",
    "occupations=pd.Series(['Data Scientist','Tester','SAP','Quality Manager','Enterpreneur'])\n",
    "\n",
    "df=pd.DataFrame({'Name':names,'Age':ages,'Occupation':occupations})"
   ]
  },
  {
   "cell_type": "code",
   "execution_count": 21,
   "id": "0dbc3767-8d1a-4018-ba22-bd1b6596f655",
   "metadata": {},
   "outputs": [
    {
     "data": {
      "text/html": [
       "<div>\n",
       "<style scoped>\n",
       "    .dataframe tbody tr th:only-of-type {\n",
       "        vertical-align: middle;\n",
       "    }\n",
       "\n",
       "    .dataframe tbody tr th {\n",
       "        vertical-align: top;\n",
       "    }\n",
       "\n",
       "    .dataframe thead th {\n",
       "        text-align: right;\n",
       "    }\n",
       "</style>\n",
       "<table border=\"1\" class=\"dataframe\">\n",
       "  <thead>\n",
       "    <tr style=\"text-align: right;\">\n",
       "      <th></th>\n",
       "      <th>Name</th>\n",
       "      <th>Age</th>\n",
       "      <th>Occupation</th>\n",
       "    </tr>\n",
       "  </thead>\n",
       "  <tbody>\n",
       "    <tr>\n",
       "      <th>0</th>\n",
       "      <td>Aman</td>\n",
       "      <td>27</td>\n",
       "      <td>Data Scientist</td>\n",
       "    </tr>\n",
       "    <tr>\n",
       "      <th>1</th>\n",
       "      <td>Ajendra</td>\n",
       "      <td>28</td>\n",
       "      <td>Tester</td>\n",
       "    </tr>\n",
       "    <tr>\n",
       "      <th>2</th>\n",
       "      <td>Akash</td>\n",
       "      <td>26</td>\n",
       "      <td>SAP</td>\n",
       "    </tr>\n",
       "    <tr>\n",
       "      <th>3</th>\n",
       "      <td>Gyan</td>\n",
       "      <td>29</td>\n",
       "      <td>Quality Manager</td>\n",
       "    </tr>\n",
       "    <tr>\n",
       "      <th>4</th>\n",
       "      <td>Umesh</td>\n",
       "      <td>30</td>\n",
       "      <td>Enterpreneur</td>\n",
       "    </tr>\n",
       "  </tbody>\n",
       "</table>\n",
       "</div>"
      ],
      "text/plain": [
       "      Name  Age       Occupation\n",
       "0     Aman   27   Data Scientist\n",
       "1  Ajendra   28           Tester\n",
       "2    Akash   26              SAP\n",
       "3     Gyan   29  Quality Manager\n",
       "4    Umesh   30     Enterpreneur"
      ]
     },
     "execution_count": 21,
     "metadata": {},
     "output_type": "execute_result"
    }
   ],
   "source": [
    "df"
   ]
  },
  {
   "cell_type": "code",
   "execution_count": null,
   "id": "3caa28a3-426d-46bd-8bea-be9bc322e83d",
   "metadata": {},
   "outputs": [],
   "source": [
    "In the pd.DataFrame() function, you pass a dictionary where the keys are the column names, and the values are the corresponding Series that you want to combine into the DataFrame.\n",
    "The resulting DataFrame has the same length as the Series, with each element in the Series corresponding to a row in the DataFrame.\n",
    "\n",
    "Note that the Series you pass to pd.DataFrame() must have the same length, otherwise you will get an error. \n",
    "Also, the column names in the resulting DataFrame will be in the same order as the keys in the dictionary you pass to pd.DataFrame()."
   ]
  }
 ],
 "metadata": {
  "kernelspec": {
   "display_name": "Python 3 (ipykernel)",
   "language": "python",
   "name": "python3"
  },
  "language_info": {
   "codemirror_mode": {
    "name": "ipython",
    "version": 3
   },
   "file_extension": ".py",
   "mimetype": "text/x-python",
   "name": "python",
   "nbconvert_exporter": "python",
   "pygments_lexer": "ipython3",
   "version": "3.10.8"
  }
 },
 "nbformat": 4,
 "nbformat_minor": 5
}
